{
 "cells": [
  {
   "cell_type": "code",
   "execution_count": 1,
   "metadata": {},
   "outputs": [],
   "source": [
    "import random\n",
    "import pandas as pd\n",
    "\n",
    "Hayat =\"\"\"\n",
    "Olumlu düşünen, bütün olası dünyaların en iyisinde yaşadığımızı söyler ve olumsuz düşünen, bunun gerçek olmasından korkar. James Cabell\n",
    "Bu dünyaya gelmenin sadece tek bir yolu vardır, terk etmenin ise çok fazla yolu. Donald Harington\n",
    "Birisinin ‘Hayat zor.’ diye yakındığını duyduğumda, her zaman, ‘Neye kıyasla?’ diye sormayı isterim. Sidney Harris\n",
    "Mutsuz olmamamız gerekir. Kimsenin hayatla bir kontratı yok. DavidHeath\n",
    "Hayatını kazanırken yaşamasını bilmeyen bir adam, servetini kazanmadan öncesine göre daha fakirdir. Josiah Holland\n",
    "Yarının ne olacağını sormaktan vazgeç. Her gün, sana verilen bir hazinedir. Eline geçtikçe değerlendir. Horace\n",
    "Hayatınızı yaşamanın en iyi yolu, sizden sonra da kalıcı olacak şeyler için harcamaktır. William James\n",
    "Biz Japonlar, küçük zevklerden hoşlanırız, israftan değil. Daha fazlasını karşılayabilirse de, insanın basit bir yaşam tarzı olması kanısındayım. Massaru Ibuka\n",
    "Benim sanatım ve mesleğim yaşamaktır. Montaigne\n",
    "Hayat, çikolata ile dolu bir kutu gibidir. Ne çıkacağını asla bilemezsiniz. Forrest Gump Filmi\n",
    "Hayat, büyük bir sürprizdir. Ölümün neden daha büyük bir sürpriz olması gerektiğini anlayamıyorum. Vladimir Nabokov\n",
    "\"\"\".strip()"
   ]
  },
  {
   "cell_type": "code",
   "execution_count": 2,
   "metadata": {},
   "outputs": [],
   "source": [
    "Sevgi = \"\"\"\n",
    "Karım,  benim  ‘Seni seviyorum.’  dememi binlerce kez duydu ama, hiçbir zaman ‘Üzgünüm.’ dediğimi duymadı. Bruce Willis\n",
    "Büyüklerine saygı, küçüklerine şevkat göstermeyenler, bizden değildir. Hz, Muhammed\n",
    "Sevip de kaybetmek, sevmemiş olmaktan daha iyidir. Seneca\n",
    "Sevgiyle düşünün, sevgiyle konuşun, sevgiyle davranın. Her ihtiyaç karşılanacaktır. James Ailen\n",
    "Sevgi, insanı birliğe, bencillik ise yalnızlığa götürür. Schiller\n",
    "Sevdiği kadını ve sevdiği işi bulan bir erkek, yeryüzünde cenneti bulmuş demektir. Helen Rowland\n",
    "Kızgınlık, kırgınlık ya da acıya tutunmayın. Enerjinizi çalarlar ve sizi sevmekten alıkoyarlar. Leo Buscaglia\n",
    "Herkes temel bir şeyi unutuyor; insanlar sizi, siz onları sevmeden sevmeyecekler. Pat Carroll\n",
    "Sevgi, dünyadaki yaşamın aktığı nehirdir. Henry Beecher\n",
    "Sevmeden verebilirsiniz ama, vermeden sevemezsiniz. Amy Carmichael\n",
    "\"\"\".strip()"
   ]
  },
  {
   "cell_type": "code",
   "execution_count": 3,
   "metadata": {},
   "outputs": [],
   "source": [
    "Gayret = \"\"\"\n",
    "Dileyin verilecektir; arayın bulacaksınız; kapıyı çalın size açılacaktır.    Hz.İsa (a.s.)\n",
    "Damlayan su, mermeri, yürüyen de dağları deler. Ovidius\n",
    "Hazine, eziyet çekene gözükür.    Hz. Mevlâna\n",
    "Beklenen gün gelecekse, çekilen çile kutsaldır.V. Hugo\n",
    "Yarınlar yorgun ve bezgin kimseler değil, rahatını terk edebilen gayretli insanlara aittir. Cicero\n",
    "Emek olmadan, yemek olmaz.    Atasözü\n",
    "Kötülüğün hakim olmaması için tek şart, iyilerin gayret göstermeleridir. Kelâmı Kibar\n",
    "İnsan bir şeyi çok ciddi olarak arzu etmeye görsün; hiçbir şey erişilemeyecek kadar yükseklerde değildir. H. Andersen\n",
    "Ümitsizlik ve korkaklık, çalışma azminden yoksun insanlara göredir.  A. Mourois\n",
    "Bir çığlık, bir çığ meydana getirir.  Soljenitsin\n",
    "Kıramıyacağm zinciri, hiç olmazsa kemir. C. Şehabettin\n",
    "Basit bir insanın elinden geleni yapması; bilgili ve zeki bir insanın tembelliğinden çok daha değerlidir.\n",
    "Taşı delen, suyun kuvveti değil; dalgaların sürekliliğidir.\n",
    "Damlayan su, taşı deler. Ovidius\n",
    "\"\"\".strip()"
   ]
  },
  {
   "cell_type": "code",
   "execution_count": 4,
   "metadata": {},
   "outputs": [],
   "source": [
    "Umut = \"\"\"\n",
    "Başlangıçta fazla umut ederiz ama, sonrasında yeteri kadar değil. Joesph Roux\n",
    "Hayatta umutsuz durumlar yoktur,  sadece umutsuzluk besleyen insanlar vardır. Booth\n",
    "Şafaktan önce her yer karanlıktır. Katherine Mansfield\n",
    "Umut, gözle görülemeyeni görür, elle tutulamayanı hisseder ve imkansızı başarır. Anonim\n",
    "Büyük umutlar, büyük adamlar yaratır. Thomas Fuller\n",
    "Umut, fakirin ekmeğidir. Thales Miletus\n",
    "Kazanmayı umut etmeyen, daha baştan kaybetmiştir. Jose Olmedo\n",
    "Umut etmeyen, hiçbir zaman umutsuzluğa kapılmaz. George Bernard Shaw\n",
    "Hiçbir kış, sonsuza kadar sürmez. Hal Borland\n",
    "Umut, şüphe etmek daha kolayken, inanmaya devam etmektir. Anonim\n",
    "Umut, mutluluktan alınmış bir miktar borçtur. Joseph İoubert\n",
    "\"\"\".strip()"
   ]
  },
  {
   "cell_type": "code",
   "execution_count": 5,
   "metadata": {},
   "outputs": [],
   "source": [
    "data = {\n",
    "            \n",
    "        }"
   ]
  },
  {
   "cell_type": "code",
   "execution_count": 6,
   "metadata": {},
   "outputs": [],
   "source": [
    "sozSayisi =len( Hayat.split('\\n') + Sevgi.split('\\n') + Umut.split('\\n') + Gayret.split('\\n'))"
   ]
  },
  {
   "cell_type": "code",
   "execution_count": 7,
   "metadata": {},
   "outputs": [
    {
     "name": "stdout",
     "output_type": "stream",
     "text": [
      "46\n"
     ]
    }
   ],
   "source": [
    "print(sozSayisi)"
   ]
  },
  {
   "cell_type": "code",
   "execution_count": 8,
   "metadata": {},
   "outputs": [],
   "source": [
    "i = 0\n",
    "while i<=sozSayisi-2:\n",
    "    if i < 11:\n",
    "         data[\"Kategori 1\"] = \"Hayat\"\n",
    "         data[i] = Hayat.split('\\n')[i]\n",
    "         i = i + 1\n",
    "    elif i > 10 and i < 21:\n",
    "         data[\"Kategori 2\"] = \"Sevgi\"\n",
    "         data[i] = Sevgi.split('\\n')[i-11]\n",
    "         i = i + 1\n",
    "    elif i > 20 and i<35:\n",
    "         data[\"Kategori 3\"] = \"Gayret\"\n",
    "         data[i] = Gayret.split('\\n')[i-21]\n",
    "         i = i + 1     \n",
    "    elif i > 34 and i<49:\n",
    "         data[\"Kategori 4\"] = \"Umut\"\n",
    "         data[i] = Umut.split('\\n')[i-34]\n",
    "         i = i + 1  "
   ]
  },
  {
   "cell_type": "code",
   "execution_count": 9,
   "metadata": {},
   "outputs": [
    {
     "name": "stdout",
     "output_type": "stream",
     "text": [
      "0 Sözler  : Olumlu düşünen, bütün olası dünyaların en iyisinde yaşadığımızı söyler ve olumsuz düşünen, bunun gerçek olmasından korkar. James Cabell    Kategori : Hayat\n",
      "1 Sözler  : Bu dünyaya gelmenin sadece tek bir yolu vardır, terk etmenin ise çok fazla yolu. Donald Harington    Kategori : Hayat\n",
      "2 Sözler  : Birisinin ‘Hayat zor.’ diye yakındığını duyduğumda, her zaman, ‘Neye kıyasla?’ diye sormayı isterim. Sidney Harris    Kategori : Hayat\n",
      "3 Sözler  : Mutsuz olmamamız gerekir. Kimsenin hayatla bir kontratı yok. DavidHeath    Kategori : Hayat\n",
      "4 Sözler  : Hayatını kazanırken yaşamasını bilmeyen bir adam, servetini kazanmadan öncesine göre daha fakirdir. Josiah Holland    Kategori : Hayat\n",
      "5 Sözler  : Yarının ne olacağını sormaktan vazgeç. Her gün, sana verilen bir hazinedir. Eline geçtikçe değerlendir. Horace    Kategori : Hayat\n",
      "6 Sözler  : Hayatınızı yaşamanın en iyi yolu, sizden sonra da kalıcı olacak şeyler için harcamaktır. William James    Kategori : Hayat\n",
      "7 Sözler  : Biz Japonlar, küçük zevklerden hoşlanırız, israftan değil. Daha fazlasını karşılayabilirse de, insanın basit bir yaşam tarzı olması kanısındayım. Massaru Ibuka    Kategori : Hayat\n",
      "8 Sözler  : Benim sanatım ve mesleğim yaşamaktır. Montaigne    Kategori : Hayat\n",
      "9 Sözler  : Hayat, çikolata ile dolu bir kutu gibidir. Ne çıkacağını asla bilemezsiniz. Forrest Gump Filmi    Kategori : Hayat\n",
      "10 Sözler  : Hayat, büyük bir sürprizdir. Ölümün neden daha büyük bir sürpriz olması gerektiğini anlayamıyorum. Vladimir Nabokov    Kategori : Hayat\n",
      "11 Sözler  : Karım,  benim  ‘Seni seviyorum.’  dememi binlerce kez duydu ama, hiçbir zaman ‘Üzgünüm.’ dediğimi duymadı. Bruce Willis    Kategori : Sevgi\n",
      "12 Sözler  : Büyüklerine saygı, küçüklerine şevkat göstermeyenler, bizden değildir. Hz, Muhammed    Kategori : Sevgi\n",
      "13 Sözler  : Sevip de kaybetmek, sevmemiş olmaktan daha iyidir. Seneca    Kategori : Sevgi\n",
      "14 Sözler  : Sevgiyle düşünün, sevgiyle konuşun, sevgiyle davranın. Her ihtiyaç karşılanacaktır. James Ailen    Kategori : Sevgi\n",
      "15 Sözler  : Sevgi, insanı birliğe, bencillik ise yalnızlığa götürür. Schiller    Kategori : Sevgi\n",
      "16 Sözler  : Sevdiği kadını ve sevdiği işi bulan bir erkek, yeryüzünde cenneti bulmuş demektir. Helen Rowland    Kategori : Sevgi\n",
      "17 Sözler  : Kızgınlık, kırgınlık ya da acıya tutunmayın. Enerjinizi çalarlar ve sizi sevmekten alıkoyarlar. Leo Buscaglia    Kategori : Sevgi\n",
      "18 Sözler  : Herkes temel bir şeyi unutuyor; insanlar sizi, siz onları sevmeden sevmeyecekler. Pat Carroll    Kategori : Sevgi\n",
      "19 Sözler  : Sevgi, dünyadaki yaşamın aktığı nehirdir. Henry Beecher    Kategori : Sevgi\n",
      "20 Sözler  : Sevmeden verebilirsiniz ama, vermeden sevemezsiniz. Amy Carmichael    Kategori : Sevgi\n",
      "21 Sözler  : Dileyin verilecektir; arayın bulacaksınız; kapıyı çalın size açılacaktır.    Hz.İsa (a.s.)    Kategori : Gayret\n",
      "22 Sözler  : Damlayan su, mermeri, yürüyen de dağları deler. Ovidius    Kategori : Gayret\n",
      "23 Sözler  : Hazine, eziyet çekene gözükür.    Hz. Mevlâna    Kategori : Gayret\n",
      "24 Sözler  : Beklenen gün gelecekse, çekilen çile kutsaldır.V. Hugo    Kategori : Gayret\n",
      "25 Sözler  : Yarınlar yorgun ve bezgin kimseler değil, rahatını terk edebilen gayretli insanlara aittir. Cicero    Kategori : Gayret\n",
      "26 Sözler  : Emek olmadan, yemek olmaz.    Atasözü    Kategori : Gayret\n",
      "27 Sözler  : Kötülüğün hakim olmaması için tek şart, iyilerin gayret göstermeleridir. Kelâmı Kibar    Kategori : Gayret\n",
      "28 Sözler  : İnsan bir şeyi çok ciddi olarak arzu etmeye görsün; hiçbir şey erişilemeyecek kadar yükseklerde değildir. H. Andersen    Kategori : Gayret\n",
      "29 Sözler  : Ümitsizlik ve korkaklık, çalışma azminden yoksun insanlara göredir.  A. Mourois    Kategori : Gayret\n",
      "30 Sözler  : Bir çığlık, bir çığ meydana getirir.  Soljenitsin    Kategori : Gayret\n",
      "31 Sözler  : Kıramıyacağm zinciri, hiç olmazsa kemir. C. Şehabettin    Kategori : Gayret\n",
      "32 Sözler  : Basit bir insanın elinden geleni yapması; bilgili ve zeki bir insanın tembelliğinden çok daha değerlidir.    Kategori : Gayret\n",
      "33 Sözler  : Taşı delen, suyun kuvveti değil; dalgaların sürekliliğidir.    Kategori : Gayret\n",
      "34 Sözler  : Damlayan su, taşı deler. Ovidius    Kategori : Gayret\n",
      "35 Sözler  : Hayatta umutsuz durumlar yoktur,  sadece umutsuzluk besleyen insanlar vardır. Booth    Kategori : Umut\n",
      "36 Sözler  : Şafaktan önce her yer karanlıktır. Katherine Mansfield    Kategori : Umut\n",
      "37 Sözler  : Umut, gözle görülemeyeni görür, elle tutulamayanı hisseder ve imkansızı başarır. Anonim    Kategori : Umut\n",
      "38 Sözler  : Büyük umutlar, büyük adamlar yaratır. Thomas Fuller    Kategori : Umut\n",
      "39 Sözler  : Umut, fakirin ekmeğidir. Thales Miletus    Kategori : Umut\n",
      "40 Sözler  : Kazanmayı umut etmeyen, daha baştan kaybetmiştir. Jose Olmedo    Kategori : Umut\n",
      "41 Sözler  : Umut etmeyen, hiçbir zaman umutsuzluğa kapılmaz. George Bernard Shaw    Kategori : Umut\n",
      "42 Sözler  : Hiçbir kış, sonsuza kadar sürmez. Hal Borland    Kategori : Umut\n",
      "43 Sözler  : Umut, şüphe etmek daha kolayken, inanmaya devam etmektir. Anonim    Kategori : Umut\n",
      "44 Sözler  : Umut, mutluluktan alınmış bir miktar borçtur. Joseph İoubert    Kategori : Umut\n"
     ]
    }
   ],
   "source": [
    "i = 0                  \n",
    "while i<=len(data)-5:\n",
    "    if i < 11:\n",
    "         print(i , \"Sözler  :\", data[i]  ,\"   Kategori :\", data[\"Kategori 1\"])\n",
    "         i = i + 1\n",
    "    elif i > 10 and i < 21:\n",
    "         print(i , \"Sözler  :\", data[i]  ,\"   Kategori :\", data[\"Kategori 2\"])\n",
    "         i = i + 1\n",
    "    elif i > 20 and i<35:\n",
    "         print(i , \"Sözler  :\", data[i]  ,\"   Kategori :\", data[\"Kategori 3\"])\n",
    "         i = i + 1     \n",
    "    elif i > 34 and i<49:\n",
    "         print(i , \"Sözler  :\", data[i]  ,\"   Kategori :\", data[\"Kategori 4\"])\n",
    "         i = i + 1  "
   ]
  },
  {
   "cell_type": "code",
   "execution_count": 10,
   "metadata": {},
   "outputs": [],
   "source": [
    "def randomSozKategorili(aralık):\n",
    "    sayı2 = random.randint(int(len(data[\"Kategori \"+str(aralık)])/2)  , len(data[\"Kategori \"+str(aralık)]))\n",
    "    return data[sayı2],data['Kategori '+str(aralık)]"
   ]
  },
  {
   "cell_type": "code",
   "execution_count": 11,
   "metadata": {},
   "outputs": [],
   "source": [
    "def randomSozKategorisiz():\n",
    "    sayı = random.randint(1,4)\n",
    "    sayı2 = random.randint(int(len(data[\"Kategori \"+str(sayı)])/2)  , len(data[\"Kategori \"+str(sayı)]))\n",
    "    return data[sayı2],data['Kategori '+str(sayı)]"
   ]
  },
  {
   "cell_type": "code",
   "execution_count": 12,
   "metadata": {},
   "outputs": [
    {
     "name": "stdout",
     "output_type": "stream",
     "text": [
      "                                                   Kategori 1\n",
      "0  Olumlu düşünen, bütün olası dünyaların en iy...      Hayat\n",
      "                                                   Kategori 1\n",
      "1  Bu dünyaya gelmenin sadece tek bir yolu vard...      Hayat\n",
      "                                                   Kategori 1\n",
      "2  Birisinin ‘Hayat zor.’ diye yakındığını duyd...      Hayat\n",
      "                                                   Kategori 1\n",
      "3  Mutsuz olmamamız gerekir. Kimsenin hayatla b...      Hayat\n",
      "                                                   Kategori 1\n",
      "4  Hayatını kazanırken yaşamasını bilmeyen bir ...      Hayat\n",
      "                                                   Kategori 1\n",
      "5  Yarının ne olacağını sormaktan vazgeç. Her g...      Hayat\n",
      "                                                   Kategori 1\n",
      "6  Hayatınızı yaşamanın en iyi yolu, sizden son...      Hayat\n",
      "                                                   Kategori 1\n",
      "7  Biz Japonlar, küçük zevklerden hoşlanırız, i...      Hayat\n",
      "                                                   Kategori 1\n",
      "8  Benim sanatım ve mesleğim yaşamaktır. Montaigne      Hayat\n",
      "                                                   Kategori 1\n",
      "9  Hayat, çikolata ile dolu bir kutu gibidir. N...      Hayat\n",
      "                                                   Kategori 1\n",
      "10  Hayat, büyük bir sürprizdir. Ölümün neden d...      Hayat\n",
      "                                                   Kategori 2\n",
      "11  Karım,  benim  ‘Seni seviyorum.’  dememi bi...      Sevgi\n",
      "                                                   Kategori 2\n",
      "12  Büyüklerine saygı, küçüklerine şevkat göste...      Sevgi\n",
      "                                                   Kategori 2\n",
      "13  Sevip de kaybetmek, sevmemiş olmaktan daha ...      Sevgi\n",
      "                                                   Kategori 2\n",
      "14  Sevgiyle düşünün, sevgiyle konuşun, sevgiyl...      Sevgi\n",
      "                                                   Kategori 2\n",
      "15  Sevgi, insanı birliğe, bencillik ise yalnız...      Sevgi\n",
      "                                                   Kategori 2\n",
      "16  Sevdiği kadını ve sevdiği işi bulan bir erk...      Sevgi\n",
      "                                                   Kategori 2\n",
      "17  Kızgınlık, kırgınlık ya da acıya tutunmayın...      Sevgi\n",
      "                                                   Kategori 2\n",
      "18  Herkes temel bir şeyi unutuyor; insanlar si...      Sevgi\n",
      "                                                   Kategori 2\n",
      "19  Sevgi, dünyadaki yaşamın aktığı nehirdir. H...      Sevgi\n",
      "                                                   Kategori 2\n",
      "20  Sevmeden verebilirsiniz ama, vermeden sevem...      Sevgi\n",
      "                                                   Kategori 3\n",
      "21  Dileyin verilecektir; arayın bulacaksınız; ...     Gayret\n",
      "                                                   Kategori 3\n",
      "22  Damlayan su, mermeri, yürüyen de dağları de...     Gayret\n",
      "                                                  Kategori 3\n",
      "23  Hazine, eziyet çekene gözükür.    Hz. Mevlâna     Gayret\n",
      "                                                   Kategori 3\n",
      "24  Beklenen gün gelecekse, çekilen çile kutsal...     Gayret\n",
      "                                                   Kategori 3\n",
      "25  Yarınlar yorgun ve bezgin kimseler değil, r...     Gayret\n",
      "                                          Kategori 3\n",
      "26  Emek olmadan, yemek olmaz.    Atasözü     Gayret\n",
      "                                                   Kategori 3\n",
      "27  Kötülüğün hakim olmaması için tek şart, iyi...     Gayret\n",
      "                                                   Kategori 3\n",
      "28  İnsan bir şeyi çok ciddi olarak arzu etmeye...     Gayret\n",
      "                                                   Kategori 3\n",
      "29  Ümitsizlik ve korkaklık, çalışma azminden y...     Gayret\n",
      "                                                   Kategori 3\n",
      "30  Bir çığlık, bir çığ meydana getirir.  Solje...     Gayret\n",
      "                                                   Kategori 3\n",
      "31  Kıramıyacağm zinciri, hiç olmazsa kemir. C....     Gayret\n",
      "                                                   Kategori 3\n",
      "32  Basit bir insanın elinden geleni yapması; b...     Gayret\n",
      "                                                   Kategori 3\n",
      "33  Taşı delen, suyun kuvveti değil; dalgaların...     Gayret\n",
      "                                     Kategori 3\n",
      "34  Damlayan su, taşı deler. Ovidius     Gayret\n",
      "                                                   Kategori 4\n",
      "35  Hayatta umutsuz durumlar yoktur,  sadece um...       Umut\n",
      "                                                   Kategori 4\n",
      "36  Şafaktan önce her yer karanlıktır. Katherin...       Umut\n",
      "                                                   Kategori 4\n",
      "37  Umut, gözle görülemeyeni görür, elle tutula...       Umut\n",
      "                                                   Kategori 4\n",
      "38  Büyük umutlar, büyük adamlar yaratır. Thoma...       Umut\n",
      "                                            Kategori 4\n",
      "39  Umut, fakirin ekmeğidir. Thales Miletus       Umut\n",
      "                                                   Kategori 4\n",
      "40  Kazanmayı umut etmeyen, daha baştan kaybetm...       Umut\n",
      "                                                   Kategori 4\n",
      "41  Umut etmeyen, hiçbir zaman umutsuzluğa kapı...       Umut\n",
      "                                                  Kategori 4\n",
      "42  Hiçbir kış, sonsuza kadar sürmez. Hal Borland       Umut\n",
      "                                                   Kategori 4\n",
      "43  Umut, şüphe etmek daha kolayken, inanmaya d...       Umut\n",
      "                                                   Kategori 4\n",
      "44  Umut, mutluluktan alınmış bir miktar borçtu...       Umut\n"
     ]
    }
   ],
   "source": [
    "i = 0                  \n",
    "while i<=len(data)-5:\n",
    "    if i < 11:\n",
    "           df = pd.DataFrame(data,index = [str(i) + \"  \" + data[i]] ,columns=[\"Kategori 1\"])\n",
    "           i = i+1\n",
    "           print(df)\n",
    "    elif i > 10 and i < 21:\n",
    "           df = pd.DataFrame(data,index = [str(i) + \"  \" + data[i]] ,columns=[\"Kategori 2\"])\n",
    "           i = i+1\n",
    "           print(df)\n",
    "    elif i > 20 and i<35:\n",
    "           df = pd.DataFrame(data,index = [str(i) + \"  \" + data[i]] ,columns=[\"Kategori 3\"])\n",
    "           i = i+1\n",
    "           print(df)   \n",
    "    elif i > 34 and i<49:\n",
    "          df = pd.DataFrame(data,index = [str(i) + \"  \" + data[i]] ,columns=[\"Kategori 4\"])\n",
    "          i = i+1\n",
    "          print(df)  "
   ]
  },
  {
   "cell_type": "code",
   "execution_count": 27,
   "metadata": {},
   "outputs": [
    {
     "name": "stdout",
     "output_type": "stream",
     "text": [
      "\n",
      " Merhaba İnsan Hangi Konuda Tavsiye İstiyorsun (Hayat/Sevgi/Gayret/Umut) ?\n",
      "Cevabınız  :Merhaba\n",
      "('Hayatını kazanırken yaşamasını bilmeyen bir adam, servetini kazanmadan öncesine göre daha fakirdir. Josiah Holland', 'Hayat')\n"
     ]
    }
   ],
   "source": [
    "print(\"\\n Merhaba İnsan Hangi Konuda Tavsiye İstiyorsun (Hayat/Sevgi/Gayret/Umut) ?\")\n",
    "x = input(\"Cevabınız  :\")\n",
    "cevap = len(x.split(\" \"))\n",
    "kategorili = 0\n",
    "if cevap < 2:\n",
    "    i = 0;\n",
    "    while i<4:\n",
    "        kategoriler = data[\"Kategori \"+str(i+1)]\n",
    "        if  str(x) == str(kategoriler):\n",
    "            print(randomSozKategorili((i+1)))\n",
    "            kategorili = 1\n",
    "            break\n",
    "        i = i+1\n",
    "    if kategorili != 1:print(randomSozKategorisiz())  \n",
    "elif cevap >= 2:\n",
    "     list2 = {}\n",
    "     i = 0\n",
    "     while i<=len(data)-5:\n",
    "        list1 = x.split(\" \")\n",
    "        list2[i] = data[i].split(\" \")\n",
    "        s1 = set(list1)\n",
    "        s2 = set(list2[i])\n",
    "        sonuc = len(s1.intersection(s2)) / len(s1.union(s2))\n",
    "        if sonuc != 0:            \n",
    "            print(data[i])\n",
    "            break\n",
    "        i = i + 1"
   ]
  }
 ],
 "metadata": {
  "kernelspec": {
   "display_name": "Python 3",
   "language": "python",
   "name": "python3"
  },
  "language_info": {
   "codemirror_mode": {
    "name": "ipython",
    "version": 3
   },
   "file_extension": ".py",
   "mimetype": "text/x-python",
   "name": "python",
   "nbconvert_exporter": "python",
   "pygments_lexer": "ipython3",
   "version": "3.7.1"
  }
 },
 "nbformat": 4,
 "nbformat_minor": 2
}
